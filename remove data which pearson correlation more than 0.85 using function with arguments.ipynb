{
 "cells": [
  {
   "cell_type": "code",
   "execution_count": 81,
   "metadata": {},
   "outputs": [],
   "source": [
    "import pandas as pd\n",
    "df = pd.read_csv(\"bhp.csv\")"
   ]
  },
  {
   "cell_type": "code",
   "execution_count": 85,
   "metadata": {},
   "outputs": [
    {
     "name": "stdout",
     "output_type": "stream",
     "text": [
      "                       location       size  total_sqft  bath   price  \\\n",
      "0      Electronic City Phase II      2 BHK      1056.0   2.0   39.07   \n",
      "1              Chikka Tirupathi  4 Bedroom      2600.0   5.0  120.00   \n",
      "2                   Uttarahalli      3 BHK      1440.0   2.0   62.00   \n",
      "3            Lingadheeranahalli      3 BHK      1521.0   3.0   95.00   \n",
      "4                      Kothanur      2 BHK      1200.0   2.0   51.00   \n",
      "...                         ...        ...         ...   ...     ...   \n",
      "13195                Whitefield  5 Bedroom      3453.0   4.0  231.00   \n",
      "13196                     other      4 BHK      3600.0   5.0  400.00   \n",
      "13197     Raja Rajeshwari Nagar      2 BHK      1141.0   2.0   60.00   \n",
      "13198           Padmanabhanagar      4 BHK      4689.0   4.0  488.00   \n",
      "13199              Doddathoguru      1 BHK       550.0   1.0   17.00   \n",
      "\n",
      "       price_per_sqft  \n",
      "0                3699  \n",
      "1                4615  \n",
      "2                4305  \n",
      "3                6245  \n",
      "4                4250  \n",
      "...               ...  \n",
      "13195            6689  \n",
      "13196           11111  \n",
      "13197            5258  \n",
      "13198           10407  \n",
      "13199            3090  \n",
      "\n",
      "[13200 rows x 6 columns]\n"
     ]
    }
   ],
   "source": [
    "def correlation(dataset, threshold_value):\n",
    "    # Set of all the columns names which you want to deleted (remove string columns)\n",
    "    columns_corr = set(('location', 'size')) \n",
    "    corr_matrix = dataset.corr()\n",
    "    #print(corr_matrix)\n",
    "    for i in range(len(corr_matrix.columns)):\n",
    "        for j in range(i):\n",
    "            if (corr_matrix.iloc[i, j] >= threshold_value) and (corr_matrix.columns[j] not in columns_corr):\n",
    "                # getting the name of column\n",
    "                col_name = corr_matrix.columns[i] \n",
    "                columns_corr.add(col_name)\n",
    "                if col_name in dataset.columns:\n",
    "                    del dataset[col_name] # deleting the column from the dataset\n",
    "\n",
    "    print(dataset)\n",
    "correlation(df, 0.85)    "
   ]
  },
  {
   "cell_type": "code",
   "execution_count": null,
   "metadata": {},
   "outputs": [],
   "source": []
  }
 ],
 "metadata": {
  "kernelspec": {
   "display_name": "Python 3",
   "language": "python",
   "name": "python3"
  },
  "language_info": {
   "codemirror_mode": {
    "name": "ipython",
    "version": 3
   },
   "file_extension": ".py",
   "mimetype": "text/x-python",
   "name": "python",
   "nbconvert_exporter": "python",
   "pygments_lexer": "ipython3",
   "version": "3.7.6"
  }
 },
 "nbformat": 4,
 "nbformat_minor": 4
}
